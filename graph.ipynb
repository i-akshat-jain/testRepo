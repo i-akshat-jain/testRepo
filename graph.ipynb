{
 "cells": [
  {
   "cell_type": "code",
   "execution_count": null,
   "id": "133ab127",
   "metadata": {},
   "outputs": [],
   "source": []
  },
  {
   "cell_type": "code",
   "execution_count": 6,
   "id": "a9235d91-a68e-4e4a-8fe6-f08100d0fb7a",
   "metadata": {},
   "outputs": [
    {
     "name": "stdout",
     "output_type": "stream",
     "text": [
      "Using matplotlib backend: TkAgg\n"
     ]
    }
   ],
   "source": [
    "import pandas as pd\n",
    "import matplotlib.pyplot as plt\n",
    "import seaborn as sns\n",
    "#import mplcursors\n",
    "from matplotlib.lines import Line2D\n",
    "import os\n",
    "\n",
    "%matplotlib"
   ]
  },
  {
   "cell_type": "code",
   "execution_count": null,
   "id": "ce8e1a55",
   "metadata": {
    "scrolled": true
   },
   "outputs": [
    {
     "name": "stdout",
     "output_type": "stream",
     "text": [
      "asceding\n",
      "asceding_output\n"
     ]
    },
    {
     "name": "stderr",
     "output_type": "stream",
     "text": [
      "C:\\Users\\Lenovo\\AppData\\Local\\Temp\\ipykernel_11276\\2884385459.py:28: DtypeWarning: Columns (15) have mixed types. Specify dtype option on import or set low_memory=False.\n",
      "  data_frames[variable_name] = pd.read_csv(file_path, encoding='latin1')\n"
     ]
    },
    {
     "name": "stdout",
     "output_type": "stream",
     "text": [
      "cecum\n",
      "cecum_output\n"
     ]
    },
    {
     "name": "stderr",
     "output_type": "stream",
     "text": [
      "C:\\Users\\Lenovo\\AppData\\Local\\Temp\\ipykernel_11276\\2884385459.py:28: DtypeWarning: Columns (15) have mixed types. Specify dtype option on import or set low_memory=False.\n",
      "  data_frames[variable_name] = pd.read_csv(file_path, encoding='latin1')\n"
     ]
    },
    {
     "name": "stdout",
     "output_type": "stream",
     "text": [
      "descending\n",
      "descending_output\n"
     ]
    },
    {
     "name": "stderr",
     "output_type": "stream",
     "text": [
      "C:\\Users\\Lenovo\\AppData\\Local\\Temp\\ipykernel_11276\\2884385459.py:28: DtypeWarning: Columns (15) have mixed types. Specify dtype option on import or set low_memory=False.\n",
      "  data_frames[variable_name] = pd.read_csv(file_path, encoding='latin1')\n"
     ]
    },
    {
     "name": "stdout",
     "output_type": "stream",
     "text": [
      "Rectosigmoid\n",
      "Rectosigmoid_output\n"
     ]
    },
    {
     "name": "stderr",
     "output_type": "stream",
     "text": [
      "C:\\Users\\Lenovo\\AppData\\Local\\Temp\\ipykernel_11276\\2884385459.py:28: DtypeWarning: Columns (15) have mixed types. Specify dtype option on import or set low_memory=False.\n",
      "  data_frames[variable_name] = pd.read_csv(file_path, encoding='latin1')\n"
     ]
    },
    {
     "name": "stdout",
     "output_type": "stream",
     "text": [
      "rectum\n",
      "rectum_output\n"
     ]
    },
    {
     "name": "stderr",
     "output_type": "stream",
     "text": [
      "C:\\Users\\Lenovo\\AppData\\Local\\Temp\\ipykernel_11276\\2884385459.py:28: DtypeWarning: Columns (15) have mixed types. Specify dtype option on import or set low_memory=False.\n",
      "  data_frames[variable_name] = pd.read_csv(file_path, encoding='latin1')\n"
     ]
    },
    {
     "name": "stdout",
     "output_type": "stream",
     "text": [
      "sigmoid\n",
      "sigmoid_output\n"
     ]
    }
   ],
   "source": [
    "\n",
    "# Path to the folder containing the files\n",
    "folder_path = 'NormalvsTumor_HILIC_ALL/'\n",
    "\n",
    "# List all files in the folder\n",
    "file_names = os.listdir(folder_path)\n",
    "\n",
    "# Create a dictionary to store DataFrames with variable names\n",
    "data_frames = {}\n",
    "\n",
    "# Loop through the files and read them into pandas DataFrames\n",
    "for file_name in file_names:\n",
    "    # Assuming your files are CSV, modify the extension accordingly if needed\n",
    "    if file_name.endswith('.csv'):\n",
    "        # Remove the extension to create a variable name\n",
    "        variable_name = os.path.splitext(file_name)[0]\n",
    "        # Remove specified prefixes and suffixes from the variable name\n",
    "        variable_name = variable_name.replace('CRC_HILIC_', '').replace('_Ttest', '')\n",
    "        \n",
    "        print(variable_name)\n",
    "\n",
    "        # Read the file into a DataFrame and store it in the dictionary\n",
    "        file_path = os.path.join(folder_path, file_name)\n",
    "        try:\n",
    "            data_frames[variable_name] = pd.read_csv(file_path, encoding='utf-8')\n",
    "        except UnicodeDecodeError:\n",
    "            # Try a different encoding if 'utf-8' fails\n",
    "            try:\n",
    "                data_frames[variable_name] = pd.read_csv(file_path, encoding='latin1')\n",
    "            except UnicodeDecodeError:\n",
    "                print(f\"Error reading file '{file_name}': Unable to decode using 'utf-8' or 'latin1'.\")\n",
    "\n"
   ]
  },
  {
   "cell_type": "code",
   "execution_count": null,
   "id": "0e8f2a8a-4cb5-4dfd-9ddd-8ddf008c1231",
   "metadata": {},
   "outputs": [],
   "source": [
    "# Create a dictionary to store the results\n",
    "results_dict = {}\n",
    "selected_mz_value = 694.31494\n",
    "# Iterate through the DataFrames\n",
    "for variable_name, df in data_frames.items():\n",
    "    # Check if the variable name contains 'output'\n",
    "    if 'output' in variable_name:\n",
    "        # Assuming 'mz' is a column in the DataFrame\n",
    "        selected_row_output = df[df['mz'] == selected_mz_value]\n",
    "\n",
    "        if not selected_row_output.empty:\n",
    "            raw_pval = selected_row_output['raw_pval'].values[0]\n",
    "            q_fdr = selected_row_output['q_fdr'].values[0]\n",
    "            log_fc_matched = selected_row_output['log_fc_matched'].values[0]\n",
    "            log_fc_matched = float(log_fc_matched)\n",
    "            q_fdr = float(q_fdr)\n",
    "\n",
    "            # Check q_fdr and assign stars accordingly\n",
    "            if q_fdr < 0.05 and q_fdr > 0.01:\n",
    "                q_fdr_stars = '*'\n",
    "            elif q_fdr < 0.01 and q_fdr > 0.001:\n",
    "                q_fdr_stars = '**'\n",
    "            elif q_fdr < 0.001:\n",
    "                q_fdr_stars = '***'\n",
    "            # Save the results in the dictionary\n",
    "            results_dict[variable_name] = {\n",
    "                'raw_pval': raw_pval,\n",
    "                'q_fdr': q_fdr,\n",
    "                'log_fc_matched': log_fc_matched,\n",
    "                'q_fdr_stars': q_fdr_stars\n",
    "            }\n",
    "        else:\n",
    "            print(f\"No data found for the selected 'mz' value in DataFrame '{variable_name}'.\")\n",
    "            \n",
    "for variable_name, results in results_dict.items():\n",
    "    print(f\"\\nResults for DataFrame '{variable_name}':\")\n",
    "    print(f\"Raw P-value: {results['raw_pval']}\")\n",
    "    print(f\"Q FDR: {results['q_fdr']}\")\n",
    "    print(f\"Log FC Matched: {results['log_fc_matched']}\")\n",
    "    print(f\"Q FDR Stars: {results['q_fdr_stars']}\")\n"
   ]
  },
  {
   "cell_type": "code",
   "execution_count": null,
   "id": "82f5c135-4ac1-4ea8-b71e-4dd5a0659d18",
   "metadata": {
    "scrolled": false
   },
   "outputs": [],
   "source": [
    "for variable_name, df in data_frames.items():\n",
    "    # Check if the variable name contains 'output'\n",
    "    # Extract results from the dictionary\n",
    "    if variable_name in results_dict:\n",
    "        q_fdr_stars = results_dict[variable_name]['q_fdr_stars']\n",
    "        # Ensure that log_fc_matched is a float or set it to 'N/A' otherwise\n",
    "        try:\n",
    "            log_fc_matched = float(results_dict[variable_name]['log_fc_matched'])\n",
    "        except ValueError:\n",
    "            log_fc_matched = \"N/A\"\n",
    "\n",
    "\n",
    "    # Plot diagrams only for DataFrames without 'output' in their names\n",
    "    if 'output' not in variable_name:\n",
    "        # Use the existing code to create the boxplot and swarmplot\n",
    "\n",
    "        desired_row_index = df.index[df['mz'] == selected_mz_value].tolist()\n",
    "\n",
    "        if len(desired_row_index) == 1:\n",
    "            desired_row_index = desired_row_index[0] + 1\n",
    "\n",
    "            row_data = df.iloc[desired_row_index - 1]\n",
    "            case_columns = row_data.filter(like='_Case').tolist()\n",
    "            control_columns = row_data.filter(like='_Control').tolist()\n",
    "\n",
    "            fig, ax = plt.subplots(figsize=(3, 4))\n",
    "\n",
    "            ax.scatter([1] * len(case_columns), case_columns, color=\"red\", label=\"Tumor\", s=3)\n",
    "            ax.scatter([2] * len(control_columns), control_columns, color=\"green\", label=\"Normal\", s=3)\n",
    "\n",
    "            ax.boxplot([case_columns, control_columns], labels=['Tumor', 'Normal'], patch_artist=True,\n",
    "                       boxprops=dict(facecolor='white', alpha=0.5, color='black', linewidth=1),\n",
    "                       medianprops=dict(color='black'), showfliers=False)\n",
    "\n",
    "            ax.set_xticklabels(['Tumor', 'Normal'], rotation=90)\n",
    "            ax.set_xlabel(variable_name, fontsize=12, fontweight='bold')\n",
    "            ax.set_ylabel('Relative Abundance')\n",
    "            ax.set_title(f'm/z={selected_mz_value:.4f}', fontsize=12, fontweight='bold')\n",
    "\n",
    "            legend_elements = [\n",
    "                Line2D([0], [0], marker='o', color='w', markerfacecolor='red', markersize=10, label='Case'),\n",
    "                Line2D([0], [0], marker='o', color='w', markerfacecolor='green', markersize=10, label='Control'),\n",
    "            ]\n",
    "\n",
    "            ax.text(1.01, 0.94, f'q:{q_fdr_stars}\\nLogFC:{log_fc_matched:.2f}', verticalalignment='center', horizontalalignment='left',\n",
    "                    transform=ax.transAxes, color='black', fontsize=8)\n",
    "\n",
    "            plt.tight_layout()\n",
    "             # Add mplcursors annotation\n",
    "            mplcursors.cursor(hover=True)\n",
    "            plt.savefig(f'boxplot_swarmplot_{variable_name}.png', dpi=500, bbox_inches='tight')\n",
    "            plt.show()\n",
    "            print(f\"Plot done for DataFrame '{variable_name}'\")\n",
    "\n",
    "        else:\n",
    "            print(f\"No unique row found for the selected 'mz' value in DataFrame '{variable_name}'.\")"
   ]
  },
  {
   "cell_type": "code",
   "execution_count": null,
   "id": "eeea8122",
   "metadata": {},
   "outputs": [],
   "source": []
  },
  {
   "cell_type": "code",
   "execution_count": null,
   "id": "6df5d007-d77a-4fb4-9acc-c16b876b4297",
   "metadata": {},
   "outputs": [],
   "source": []
  },
  {
   "cell_type": "code",
   "execution_count": null,
   "id": "c87842cf-8571-494a-aaeb-316a9e9951e8",
   "metadata": {},
   "outputs": [],
   "source": []
  },
  {
   "cell_type": "code",
   "execution_count": null,
   "id": "807b3874-3e76-490c-bd9c-3ac1f76da16d",
   "metadata": {},
   "outputs": [],
   "source": []
  }
 ],
 "metadata": {
  "kernelspec": {
   "display_name": "Python 3 (ipykernel)",
   "language": "python",
   "name": "python3"
  },
  "language_info": {
   "codemirror_mode": {
    "name": "ipython",
    "version": 3
   },
   "file_extension": ".py",
   "mimetype": "text/x-python",
   "name": "python",
   "nbconvert_exporter": "python",
   "pygments_lexer": "ipython3",
   "version": "3.9.16"
  }
 },
 "nbformat": 4,
 "nbformat_minor": 5
}
